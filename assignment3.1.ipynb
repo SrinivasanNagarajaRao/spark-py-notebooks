{
    "metadata": {
        "language_info": {
            "codemirror_mode": {
                "version": 3, 
                "name": "ipython"
            }, 
            "nbconvert_exporter": "python", 
            "file_extension": ".py", 
            "version": "3.5.4", 
            "mimetype": "text/x-python", 
            "pygments_lexer": "ipython3", 
            "name": "python"
        }, 
        "kernelspec": {
            "display_name": "Python 3.5 with Spark 2.1", 
            "language": "python", 
            "name": "python3-spark21"
        }
    }, 
    "nbformat": 4, 
    "cells": [
        {
            "metadata": {}, 
            "cell_type": "markdown", 
            "source": "# Exercise 2\n## Part 1\nNow let's calculate covariance and correlation by ourselves using ApacheSpark\n\n1st we crate two random RDD\u2019s, which shouldn't correlate at all.\n"
        }, 
        {
            "metadata": {
                "collapsed": true
            }, 
            "outputs": [], 
            "cell_type": "code", 
            "execution_count": 5, 
            "source": "import random\nrddX = sc.parallelize(random.sample(range(100),100))\nrddY = sc.parallelize(random.sample(range(100),100))"
        }, 
        {
            "metadata": {}, 
            "cell_type": "markdown", 
            "source": "Now we calculate the mean, note that we explicitly cast the denominator to float in order to obtain a float instead of int"
        }, 
        {
            "metadata": {}, 
            "outputs": [
                {
                    "output_type": "stream", 
                    "text": "49.5\n49.5\n", 
                    "name": "stdout"
                }
            ], 
            "cell_type": "code", 
            "execution_count": 7, 
            "source": "meanX = rddX.sum()/float(rddX.count())\nmeanY = rddY.sum()/float(rddY.count())\nprint meanX\nprint meanY"
        }, 
        {
            "metadata": {}, 
            "cell_type": "markdown", 
            "source": "Now we calculate the covariance"
        }, 
        {
            "metadata": {}, 
            "outputs": [
                {
                    "metadata": {}, 
                    "output_type": "execute_result", 
                    "execution_count": 14, 
                    "data": {
                        "text/plain": "-122.24242424242425"
                    }
                }
            ], 
            "cell_type": "code", 
            "execution_count": 14, 
            "source": "rddXY = rddX.zip(rddY)\ncovXY = rddXY.map(lambda (x,y) : (x-meanX)*(y-meanY)).sum()/rddXY.count()\ncovXY"
        }, 
        {
            "metadata": {}, 
            "cell_type": "markdown", 
            "source": "Covariance is not a normalized measure. Therefore we use it to calculate correlation. But before that we need to calculate the indivicual standard deviations first"
        }, 
        {
            "metadata": {}, 
            "outputs": [
                {
                    "output_type": "stream", 
                    "text": "28.8660700477\n28.8660700477\n", 
                    "name": "stdout"
                }
            ], 
            "cell_type": "code", 
            "execution_count": 15, 
            "source": "from math import sqrt\nn = rddXY.count()\nsdX = sqrt(rddX.map(lambda x : pow(x-meanX,2)).sum()/n)\nsdY = sqrt(rddY.map(lambda x : pow(x-meanY,2)).sum()/n)\nprint sdX\nprint sdY"
        }, 
        {
            "metadata": {}, 
            "cell_type": "markdown", 
            "source": "Now we calculate the correlation"
        }, 
        {
            "metadata": {}, 
            "outputs": [
                {
                    "metadata": {}, 
                    "output_type": "execute_result", 
                    "execution_count": 16, 
                    "data": {
                        "text/plain": "-0.14670557964887398"
                    }
                }
            ], 
            "cell_type": "code", 
            "execution_count": 16, 
            "source": "corrXY = covXY / (sdX * sdY)\ncorrXY"
        }, 
        {
            "metadata": {}, 
            "cell_type": "markdown", 
            "source": "## Part 2\nNo we want to create a correlation matrix out of the four RDDs used in the lecture"
        }, 
        {
            "metadata": {}, 
            "outputs": [
                {
                    "output_type": "stream", 
                    "text": "[[ 1.          1.         -1.          0.05130513]\n [ 1.          1.         -1.          0.05130513]\n [-1.         -1.          1.         -0.05130513]\n [ 0.05130513  0.05130513 -0.05130513  1.        ]]\n", 
                    "name": "stdout"
                }
            ], 
            "cell_type": "code", 
            "execution_count": 17, 
            "source": "from pyspark.mllib.stat import Statistics\nimport random\ncolumn1 = sc.parallelize(range(100))\ncolumn2 = sc.parallelize(range(100,200))\ncolumn3 = sc.parallelize(list(reversed(range(100))))\ncolumn4 = sc.parallelize(random.sample(range(100),100))\ndata = column1.zip(column2).zip(column3).zip(column4).map(lambda (((a,b),c),d) : (a,b,c,d) ).map(lambda (a,b,c,d) : [a,b,c,d])\nprint(Statistics.corr(data))"
        }, 
        {
            "metadata": {
                "collapsed": true
            }, 
            "cell_type": "markdown", 
            "source": "Congratulations, you are done with Exercice 2"
        }
    ], 
    "nbformat_minor": 1
}