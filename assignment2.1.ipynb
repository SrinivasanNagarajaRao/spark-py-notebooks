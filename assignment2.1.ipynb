{
    "metadata": {
        "language_info": {
            "codemirror_mode": {
                "version": 3, 
                "name": "ipython"
            }, 
            "nbconvert_exporter": "python", 
            "file_extension": ".py", 
            "version": "3.5.4", 
            "mimetype": "text/x-python", 
            "pygments_lexer": "ipython3", 
            "name": "python"
        }, 
        "kernelspec": {
            "display_name": "Python 3.5 with Spark 2.1", 
            "language": "python", 
            "name": "python3-spark21"
        }
    }, 
    "nbformat": 4, 
    "cells": [
        {
            "metadata": {}, 
            "outputs": [
                {
                    "output_type": "stream", 
                    "text": "+--------------------+--------------------+-----+--------+----------+---------+--------+-----+-----------+-------------+-------+\n|                 _id|                _rev|count|flowrate|fluidlevel|frequency|hardness|speed|temperature|           ts|voltage|\n+--------------------+--------------------+-----+--------+----------+---------+--------+-----+-----------+-------------+-------+\n|0d7386bdfbeb1bc3b...|1-345fe7dfc2f2cdf...|    1|    null|      null|       70|    null| null|       null|1536091611731|    229|\n|0d7386bdfbeb1bc3b...|1-318ef32d1cf80a2...|    8|      11|acceptable|     null|      79| null|         90|1536091616737|   null|\n|0d7386bdfbeb1bc3b...|1-8f424cc3e25d716...|   11|    null|      null|       68|    null| null|       null|1536091641953|    224|\n|0d7386bdfbeb1bc3b...|1-e796b0a4afc5016...|   36|      11|acceptable|     null|      71| null|         92|1536091645334|   null|\n|0d7386bdfbeb1bc3b...|1-7483abf5b500114...|   19|    null|      null|       61|    null| null|       null|1536091666025|    225|\n|0d7386bdfbeb1bc3b...|1-5d78e089ee49511...|   65|      11|acceptable|     null|      73| null|         81|1536091674550|   null|\n|0d7386bdfbeb1bc3b...|1-cad224adb345bca...|   73|      11|acceptable|     null|      73| null|         81|1536091682610|   null|\n|0d7386bdfbeb1bc3b...|1-270002e94738494...|   77|      11|acceptable|     null|      72| null|         81|1536091686741|   null|\n|0d7386bdfbeb1bc3b...|1-34d00c6866a4ad6...|   29|    null|      null|       74|    null| null|       null|1536091696088|    235|\n|0d7386bdfbeb1bc3b...|1-6826c2c640978e5...|   38|    null|      null|       69|    null| null|       null|1536091723186|    229|\n|0d7386bdfbeb1bc3b...|1-eb3b0fb9e8e9b29...|  115|      11|acceptable|     null|      76| null|         95|1536091725068|   null|\n|0d7386bdfbeb1bc3b...|1-2ca7ce8a8ed0519...|  117|      11|acceptable|     null|      78| null|         89|1536091727078|   null|\n|0d7386bdfbeb1bc3b...|1-237ead70b99dd45...|   41|    null|      null|       67|    null| null|       null|1536091732320|    233|\n|0d7386bdfbeb1bc3b...|1-531cef019ec148d...|  135|      11|acceptable|     null|     170| null|         91|1536091745489|   null|\n|0d7386bdfbeb1bc3b...|1-18463354bf9761c...|   47|    null|      null|       69|    null| null|       null|1536091750371|    236|\n|0d7386bdfbeb1bc3b...|1-742aa02317fc7f7...|  146|      11|acceptable|     null|      70| null|         94|1536091756676|   null|\n|0d7386bdfbeb1bc3b...|1-c472c06e1874e14...|  149|      11|acceptable|     null|      77| null|         80|1536091759701|   null|\n|0d7386bdfbeb1bc3b...|1-95c5ad8f307fa3b...|  164|      11|acceptable|     null|      79| null|         84|1536091774861|   null|\n|0d7386bdfbeb1bc3b...|1-0113ab8e510cdaf...|  176|      11|acceptable|     null|      70| null|         94|1536091786940|   null|\n|0d7386bdfbeb1bc3b...|1-1174e6e6020b896...|   38|    null|      null|     null|    null| 1050|       null|1536091799336|   null|\n+--------------------+--------------------+-----+--------+----------+---------+--------+-----+-----------+-------------+-------+\nonly showing top 20 rows\n\n", 
                    "name": "stdout"
                }
            ], 
            "cell_type": "code", 
            "execution_count": 1, 
            "source": "import pyspark\n\ndf = spark.read.format(\"com.cloudant.spark\").option(\"cloudant.host\",\"5b6d9cbb-3019-4a5f-9cbd-48dfa920cd11-bluemix.cloudant.com\").option(\"cloudant.username\",\"5b6d9cbb-3019-4a5f-9cbd-48dfa920cd11-bluemix\").option(\"cloudant.password\",\"af2fb89e80d1e4df24161a1ef8cb5ec2ec83c96387cb621779eb99a165953752\").load(\"washing\")\n\ndf.show()\n\n# print(df.count())\n\n# pyarray = df.columns\n\n# pyarray"
        }, 
        {
            "metadata": {}, 
            "outputs": [], 
            "cell_type": "code", 
            "execution_count": 4, 
            "source": "def count(df,spark):\n    #TODO Please enter your code here\n    df.createOrReplaceTempView(\"washing\")\n    sqlDF = spark.sql(\"SELECT count(*) as count_contents from washing\")\n    sqlDF_return = sqlDF.show()\n    return sqlDF_return\n    \n\ndef getNumberOfFields(df,spark):\n    #TODO Please enter your code here\n    column_count = len(df.columns)\n    return column_count\n    \ndef getFieldNames(df,spark):\n    column = df.schema.names\n    return column    "
        }, 
        {
            "metadata": {}, 
            "outputs": [
                {
                    "output_type": "stream", 
                    "text": "+--------------+\n|count_contents|\n+--------------+\n|          1072|\n+--------------+\n\n", 
                    "name": "stdout"
                }
            ], 
            "cell_type": "code", 
            "execution_count": 5, 
            "source": "count(df,spark)"
        }, 
        {
            "metadata": {}, 
            "outputs": [
                {
                    "metadata": {}, 
                    "output_type": "execute_result", 
                    "execution_count": 6, 
                    "data": {
                        "text/plain": "11"
                    }
                }
            ], 
            "cell_type": "code", 
            "execution_count": 6, 
            "source": "getNumberOfFields(df,spark)"
        }, 
        {
            "metadata": {}, 
            "outputs": [
                {
                    "metadata": {}, 
                    "output_type": "execute_result", 
                    "execution_count": 7, 
                    "data": {
                        "text/plain": "['_id',\n '_rev',\n 'count',\n 'flowrate',\n 'fluidlevel',\n 'frequency',\n 'hardness',\n 'speed',\n 'temperature',\n 'ts',\n 'voltage']"
                    }
                }
            ], 
            "cell_type": "code", 
            "execution_count": 7, 
            "source": "getFieldNames(df,spark)"
        }, 
        {
            "metadata": {}, 
            "outputs": [], 
            "cell_type": "code", 
            "execution_count": null, 
            "source": ""
        }
    ], 
    "nbformat_minor": 1
}