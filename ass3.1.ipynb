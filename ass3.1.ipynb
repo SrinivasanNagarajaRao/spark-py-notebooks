{
    "cells": [
        {
            "cell_type": "markdown", 
            "source": "# Assignment 3\n\nWelcome to Assignment 3. This will be even more fun. Now we will calculate statistical measures on the test data you have created.\n\nYOU ARE NOT ALLOWED TO USE ANY OTHER 3RD PARTY LIBRARIES LIKE PANDAS. PLEASE ONLY MODIFY CONTENT INSIDE THE FUNCTION SKELETONS\nPlease read why: https://www.coursera.org/learn/exploring-visualizing-iot-data/discussions/weeks/3/threads/skjCbNgeEeapeQ5W6suLkA\n. Just make sure you hit the play button on each cell from top to down. There are seven functions you have to implement. Please also make sure than on each change on a function you hit the play button again on the corresponding cell to make it available to the rest of this notebook.\nPlease also make sure to only implement the function bodies and DON'T add any additional code outside functions since this might confuse the autograder.\n\nSo the function below is used to make it easy for you to create a data frame from a cloudant data frame using the so called \"DataSource\" which is some sort of a plugin which allows ApacheSpark to use different data sources.\n", 
            "metadata": {}
        }, 
        {
            "cell_type": "code", 
            "execution_count": 1, 
            "source": "#Please don't modify this function\ndef readDataFrameFromCloudant(database):\n    cloudantdata=spark.read.load(database, \"org.apache.bahir.cloudant\")\n\n    cloudantdata.createOrReplaceTempView(\"washing\")\n    spark.sql(\"SELECT * from washing\").show()\n    return cloudantdata", 
            "metadata": {}, 
            "outputs": []
        }, 
        {
            "cell_type": "markdown", 
            "source": "All functions can be implemented using DataFrames, ApacheSparkSQL or RDDs. We are only interested in the result. You are given the reference to the data frame in the \"df\" parameter and in case you want to use SQL just use the \"spark\" parameter which is a reference to the global SparkSession object. Finally if you want to use RDDs just use \"df.rdd\" for obtaining a reference to the underlying RDD object. \n\nLet's start with the first function. Please calculate the minimal temperature for the test data set you have created. We've provided a little skeleton for you in case you want to use SQL. You can use this skeleton for all subsequent functions. Everything can be implemented using SQL only if you like.", 
            "metadata": {}
        }, 
        {
            "cell_type": "code", 
            "execution_count": 2, 
            "source": "def minTemperature(df,spark):\n    return spark.sql(\"SELECT MIN(temperature) as mintemp from washing\").first().mintemp", 
            "metadata": {}, 
            "outputs": []
        }, 
        {
            "cell_type": "markdown", 
            "source": "Please now do the same for the mean of the temperature", 
            "metadata": {}
        }, 
        {
            "cell_type": "code", 
            "execution_count": 3, 
            "source": "def meanTemperature(df,spark):\n    return spark.sql(\"SELECT AVG(temperature) as mintemp from washing\").first().mintemp", 
            "metadata": {}, 
            "outputs": []
        }, 
        {
            "cell_type": "markdown", 
            "source": "Please now do the same for the maximum of the temperature", 
            "metadata": {}
        }, 
        {
            "cell_type": "code", 
            "execution_count": 5, 
            "source": "def maxTemperature(df,spark):\n    return spark.sql(\"SELECT MAX(temperature) as mintemp from washing\").first().mintemp", 
            "metadata": {}, 
            "outputs": []
        }, 
        {
            "cell_type": "markdown", 
            "source": "Please now do the same for the standard deviation of the temperature", 
            "metadata": {}
        }, 
        {
            "cell_type": "code", 
            "execution_count": 6, 
            "source": "def sdTemperature(df,spark):\n    return spark.sql(\"SELECT stddev(temperature) as mintemp from washing\").first().mintemp", 
            "metadata": {}, 
            "outputs": []
        }, 
        {
            "cell_type": "markdown", 
            "source": "Please now do the same for the skew of the temperature. Since the SQL statement for this is a bit more complicated we've provided a skeleton for you. You have to insert custom code at four position in order to make the function work. Alternatively you can also remove everything and implement if on your own. Note that we are making use of two previously defined functions, so please make sure they are correct. Also note that we are making use of python's string formatting capabilitis where the results of the two function calls to \"meanTemperature\" and \"sdTemperature\" are inserted at the \"%s\" symbols in the SQL string.", 
            "metadata": {}
        }, 
        {
            "cell_type": "code", 
            "execution_count": 7, 
            "source": "def skewTemperature(df,spark):  \n    n = df.rdd.count()\n    sum1 = df.rdd.map(lambda x: 0 if x.temperature == None else x.temperature).sum()\n    mean = sum1/n\n    from math import sqrt\n    sd = sqrt(df.rdd.map(lambda x: 0 if x.temperature == None else pow(x.temperature - mean,2)).sum()/n)\n    skewness = n/((n-1)*(n-2))*df.rdd.map(lambda x: 0 if x.temperature == None else pow(x.temperature - mean,3)/pow(sd,3)).sum()    \n    return skewness", 
            "metadata": {}, 
            "outputs": []
        }, 
        {
            "cell_type": "markdown", 
            "source": "Kurtosis is the 4th statistical moment, so if you are smart you can make use of the code for skew which is the 3rd statistical moment. Actually only two things are different.", 
            "metadata": {}
        }, 
        {
            "cell_type": "code", 
            "execution_count": 8, 
            "source": "def kurtosisTemperature(df,spark):    \n    n = df.rdd.count()\n    sum1 = df.rdd.map(lambda x: 0 if x.temperature == None else x.temperature).sum()\n    mean = sum1/n\n    from math import sqrt\n    sd = sqrt(df.rdd.map(lambda x: 0 if x.temperature == None else pow(x.temperature - mean,2)).sum()/n)\n    kurtois = df.rdd.map(lambda x: 0 if x.temperature == None else pow(x.temperature - mean, 4)/pow(sd, 4)).sum()/(1-n)\n    return kurtois ##INSERT YOUR CODE HERE##", 
            "metadata": {}, 
            "outputs": []
        }, 
        {
            "cell_type": "markdown", 
            "source": "Just a hint. This can be solved easily using SQL as well, but as shown in the lecture also using RDDs.", 
            "metadata": {}
        }, 
        {
            "cell_type": "code", 
            "execution_count": 9, 
            "source": "def correlationTemperatureHardness(df,spark):\n    return df.stat.corr('temperature', 'hardness') ##INSERT YOUR CODE HERE##", 
            "metadata": {}, 
            "outputs": []
        }, 
        {
            "cell_type": "markdown", 
            "source": "### PLEASE DON'T REMOVE THIS BLOCK - THE FOLLOWING CODE IS NOT GRADED\n#axx\n### PLEASE DON'T REMOVE THIS BLOCK - THE FOLLOWING CODE IS NOT GRADED", 
            "metadata": {}
        }, 
        {
            "cell_type": "markdown", 
            "source": "Now it is time to connect to the cloudant database. Please have a look at the Video \"Overview of end-to-end scenario\" of Week 2 starting from 6:40 in order to learn how to obtain the credentials for the database. Please paste this credentials as strings into the below code\n\n### TODO Please provide your Cloudant credentials here", 
            "metadata": {}
        }, 
        {
            "cell_type": "code", 
            "execution_count": 10, 
            "source": "hostname = \"5b6d9cbb-3019-4a5f-9cbd-48dfa920cd11-bluemix.cloudant.com\"\nuser = \"5b6d9cbb-3019-4a5f-9cbd-48dfa920cd11-bluemix\"\npw = \"af2fb89e80d1e4df24161a1ef8cb5ec2ec83c96387cb621779eb99a165953752\"\ndatabase = \"washing\" #as long as you didn't change this in the NodeRED flow the database name stays the same", 
            "metadata": {}, 
            "outputs": []
        }, 
        {
            "cell_type": "code", 
            "execution_count": 11, 
            "source": "spark = SparkSession\\\n    .builder\\\n    .appName(\"Cloudant Spark SQL Example in Python using temp tables\")\\\n    .config(\"cloudant.host\",hostname)\\\n    .config(\"cloudant.username\", user)\\\n    .config(\"cloudant.password\",pw)\\\n    .getOrCreate()\ncloudantdata=readDataFrameFromCloudant(database)", 
            "metadata": {}, 
            "outputs": [
                {
                    "text": "+--------------------+--------------------+-----+--------+----------+---------+--------+-----+-----------+-------------+-------+\n|                 _id|                _rev|count|flowrate|fluidlevel|frequency|hardness|speed|temperature|           ts|voltage|\n+--------------------+--------------------+-----+--------+----------+---------+--------+-----+-----------+-------------+-------+\n|0d7386bdfbeb1bc3b...|1-345fe7dfc2f2cdf...|    1|    null|      null|       70|    null| null|       null|1536091611731|    229|\n|0d7386bdfbeb1bc3b...|1-318ef32d1cf80a2...|    8|      11|acceptable|     null|      79| null|         90|1536091616737|   null|\n|0d7386bdfbeb1bc3b...|1-8f424cc3e25d716...|   11|    null|      null|       68|    null| null|       null|1536091641953|    224|\n|0d7386bdfbeb1bc3b...|1-e796b0a4afc5016...|   36|      11|acceptable|     null|      71| null|         92|1536091645334|   null|\n|0d7386bdfbeb1bc3b...|1-7483abf5b500114...|   19|    null|      null|       61|    null| null|       null|1536091666025|    225|\n|0d7386bdfbeb1bc3b...|1-5d78e089ee49511...|   65|      11|acceptable|     null|      73| null|         81|1536091674550|   null|\n|0d7386bdfbeb1bc3b...|1-cad224adb345bca...|   73|      11|acceptable|     null|      73| null|         81|1536091682610|   null|\n|0d7386bdfbeb1bc3b...|1-270002e94738494...|   77|      11|acceptable|     null|      72| null|         81|1536091686741|   null|\n|0d7386bdfbeb1bc3b...|1-34d00c6866a4ad6...|   29|    null|      null|       74|    null| null|       null|1536091696088|    235|\n|0d7386bdfbeb1bc3b...|1-6826c2c640978e5...|   38|    null|      null|       69|    null| null|       null|1536091723186|    229|\n|0d7386bdfbeb1bc3b...|1-eb3b0fb9e8e9b29...|  115|      11|acceptable|     null|      76| null|         95|1536091725068|   null|\n|0d7386bdfbeb1bc3b...|1-2ca7ce8a8ed0519...|  117|      11|acceptable|     null|      78| null|         89|1536091727078|   null|\n|0d7386bdfbeb1bc3b...|1-237ead70b99dd45...|   41|    null|      null|       67|    null| null|       null|1536091732320|    233|\n|0d7386bdfbeb1bc3b...|1-531cef019ec148d...|  135|      11|acceptable|     null|     170| null|         91|1536091745489|   null|\n|0d7386bdfbeb1bc3b...|1-18463354bf9761c...|   47|    null|      null|       69|    null| null|       null|1536091750371|    236|\n|0d7386bdfbeb1bc3b...|1-742aa02317fc7f7...|  146|      11|acceptable|     null|      70| null|         94|1536091756676|   null|\n|0d7386bdfbeb1bc3b...|1-c472c06e1874e14...|  149|      11|acceptable|     null|      77| null|         80|1536091759701|   null|\n|0d7386bdfbeb1bc3b...|1-95c5ad8f307fa3b...|  164|      11|acceptable|     null|      79| null|         84|1536091774861|   null|\n|0d7386bdfbeb1bc3b...|1-0113ab8e510cdaf...|  176|      11|acceptable|     null|      70| null|         94|1536091786940|   null|\n|0d7386bdfbeb1bc3b...|1-1174e6e6020b896...|   38|    null|      null|     null|    null| 1050|       null|1536091799336|   null|\n+--------------------+--------------------+-----+--------+----------+---------+--------+-----+-----------+-------------+-------+\nonly showing top 20 rows\n\n", 
                    "output_type": "stream", 
                    "name": "stdout"
                }
            ]
        }, 
        {
            "cell_type": "code", 
            "execution_count": 12, 
            "source": "minTemperature(cloudantdata,spark)", 
            "metadata": {}, 
            "outputs": [
                {
                    "execution_count": 12, 
                    "metadata": {}, 
                    "data": {
                        "text/plain": "80"
                    }, 
                    "output_type": "execute_result"
                }
            ]
        }, 
        {
            "cell_type": "code", 
            "execution_count": 13, 
            "source": "meanTemperature(cloudantdata,spark)", 
            "metadata": {}, 
            "outputs": [
                {
                    "execution_count": 13, 
                    "metadata": {}, 
                    "data": {
                        "text/plain": "90.2406876790831"
                    }, 
                    "output_type": "execute_result"
                }
            ]
        }, 
        {
            "cell_type": "code", 
            "execution_count": 14, 
            "source": "maxTemperature(cloudantdata,spark)", 
            "metadata": {}, 
            "outputs": [
                {
                    "execution_count": 14, 
                    "metadata": {}, 
                    "data": {
                        "text/plain": "100"
                    }, 
                    "output_type": "execute_result"
                }
            ]
        }, 
        {
            "cell_type": "code", 
            "execution_count": 15, 
            "source": "sdTemperature(cloudantdata,spark)", 
            "metadata": {}, 
            "outputs": [
                {
                    "execution_count": 15, 
                    "metadata": {}, 
                    "data": {
                        "text/plain": "5.9146929940318955"
                    }, 
                    "output_type": "execute_result"
                }
            ]
        }, 
        {
            "cell_type": "code", 
            "execution_count": 16, 
            "source": "skewTemperature(cloudantdata,spark)", 
            "metadata": {}, 
            "outputs": [
                {
                    "execution_count": 16, 
                    "metadata": {}, 
                    "data": {
                        "text/plain": "1.3042297206789772"
                    }, 
                    "output_type": "execute_result"
                }
            ]
        }, 
        {
            "cell_type": "code", 
            "execution_count": 17, 
            "source": "kurtosisTemperature(cloudantdata,spark)", 
            "metadata": {}, 
            "outputs": [
                {
                    "execution_count": 17, 
                    "metadata": {}, 
                    "data": {
                        "text/plain": "-1.7392284021655378"
                    }, 
                    "output_type": "execute_result"
                }
            ]
        }, 
        {
            "cell_type": "code", 
            "execution_count": null, 
            "source": "correlationTemperatureHardness(cloudantdata,spark)", 
            "metadata": {}, 
            "outputs": []
        }, 
        {
            "cell_type": "markdown", 
            "source": "Congratulations, you are done, please download this notebook as python file using the export function and submit is to the gader using the filename \"assignment3.1.py\"", 
            "metadata": {}
        }
    ], 
    "nbformat_minor": 1, 
    "nbformat": 4, 
    "metadata": {
        "kernelspec": {
            "language": "python", 
            "display_name": "Python 3.5 with Spark 2.1", 
            "name": "python3-spark21"
        }, 
        "language_info": {
            "file_extension": ".py", 
            "version": "3.5.4", 
            "mimetype": "text/x-python", 
            "nbconvert_exporter": "python", 
            "name": "python", 
            "pygments_lexer": "ipython3", 
            "codemirror_mode": {
                "version": 3, 
                "name": "ipython"
            }
        }
    }
}