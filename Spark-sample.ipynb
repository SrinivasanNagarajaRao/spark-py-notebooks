{
    "cells": [
        {
            "cell_type": "code", 
            "execution_count": 1, 
            "source": "import pyspark", 
            "metadata": {}, 
            "outputs": []
        }, 
        {
            "cell_type": "code", 
            "execution_count": 2, 
            "source": "import random\n# sc = pyspark.SparkContext(appName=\"Pi\")\nnum_samples = 100000000\ndef inside(p):     \n  x, y = random.random(), random.random()\n  return x*x + y*y < 1\ncount = sc.parallelize(range(0, num_samples)).filter(inside).count()\npi = 4 * count / num_samples\nprint(pi)\n# sc.stop()", 
            "metadata": {}, 
            "outputs": [
                {
                    "text": "3.14161716\n", 
                    "output_type": "stream", 
                    "name": "stdout"
                }
            ]
        }, 
        {
            "cell_type": "code", 
            "execution_count": null, 
            "source": "df = spark.read.format(\"com.cloudant.spark\").option(\"cloudant.host\",\"5b6d9cbb-3019-4a5f-9cbd-48dfa920cd11-bluemix.cloudant.com\").option(\"cloudant.username\",\"5b6d9cbb-3019-4a5f-9cbd-48dfa920cd11-bluemix\").option(\"cloudant.password\",\"af2fb89e80d1e4df24161a1ef8cb5ec2ec83c96387cb621779eb99a165953752\").load(\"nodered\")\n\ndf.show()", 
            "metadata": {}, 
            "outputs": []
        }, 
        {
            "cell_type": "code", 
            "execution_count": 6, 
            "source": "df.count()", 
            "metadata": {}, 
            "outputs": [
                {
                    "execution_count": 6, 
                    "metadata": {}, 
                    "data": {
                        "text/plain": "3"
                    }, 
                    "output_type": "execute_result"
                }
            ]
        }, 
        {
            "cell_type": "code", 
            "execution_count": 14, 
            "source": "pyarray = df.columns\npyarray", 
            "metadata": {}, 
            "outputs": [
                {
                    "execution_count": 14, 
                    "metadata": {}, 
                    "data": {
                        "text/plain": "['_id', '_rev', 'credentials', 'flow', 'settings']"
                    }, 
                    "output_type": "execute_result"
                }
            ]
        }, 
        {
            "cell_type": "code", 
            "execution_count": 13, 
            "source": "len(df.columns)", 
            "metadata": {}, 
            "outputs": [
                {
                    "execution_count": 13, 
                    "metadata": {}, 
                    "data": {
                        "text/plain": "5"
                    }, 
                    "output_type": "execute_result"
                }
            ]
        }, 
        {
            "cell_type": "code", 
            "execution_count": null, 
            "source": "", 
            "metadata": {}, 
            "outputs": []
        }
    ], 
    "nbformat_minor": 1, 
    "nbformat": 4, 
    "metadata": {
        "kernelspec": {
            "language": "python", 
            "display_name": "Python 3.5 with Spark 2.1", 
            "name": "python3-spark21"
        }, 
        "language_info": {
            "file_extension": ".py", 
            "version": "3.5.4", 
            "mimetype": "text/x-python", 
            "nbconvert_exporter": "python", 
            "name": "python", 
            "pygments_lexer": "ipython3", 
            "codemirror_mode": {
                "version": 3, 
                "name": "ipython"
            }
        }
    }
}